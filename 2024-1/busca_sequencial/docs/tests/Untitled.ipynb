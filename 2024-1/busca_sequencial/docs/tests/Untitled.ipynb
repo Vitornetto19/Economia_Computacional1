{
 "cells": [
  {
   "cell_type": "markdown",
   "id": "d80a3c4a-3982-43c5-b5b7-b621b9315237",
   "metadata": {},
   "source": [
    "# Estrutura de dados\n",
    "\n"
   ]
  },
  {
   "cell_type": "markdown",
   "id": "5634ff32-5754-4045-bbc1-567ff8ca9bb2",
   "metadata": {},
   "source": [
    "## List"
   ]
  },
  {
   "cell_type": "code",
   "execution_count": 1,
   "id": "38f200c1-e394-4bd0-a3f1-4b8773071338",
   "metadata": {},
   "outputs": [],
   "source": [
    "# listagem 1:\n",
    "\n",
    "## Alocação de memória\n",
    "a = [1, \"b\", 2.3]\n",
    "\n"
   ]
  },
  {
   "cell_type": "code",
   "execution_count": 2,
   "id": "85010104-a1c2-4841-8ac9-a7132e1d9e53",
   "metadata": {},
   "outputs": [
    {
     "name": "stdout",
     "output_type": "stream",
     "text": [
      "[1, 'b', 2.3]\n"
     ]
    }
   ],
   "source": [
    "# saída de dados \n",
    "print(a)\n"
   ]
  },
  {
   "cell_type": "code",
   "execution_count": 4,
   "id": "cd858c4d-a8c8-4999-9f93-ebd6520018af",
   "metadata": {},
   "outputs": [
    {
     "name": "stdout",
     "output_type": "stream",
     "text": [
      "1\n",
      "b\n",
      "2.3\n"
     ]
    }
   ],
   "source": [
    "# Acessando os elementos da lista\n",
    "print(a[0])\n",
    "print(a[1])\n",
    "print(a[2])\n"
   ]
  },
  {
   "cell_type": "code",
   "execution_count": 5,
   "id": "3a555d12-a102-4a48-9877-23f62b30670f",
   "metadata": {},
   "outputs": [
    {
     "name": "stdout",
     "output_type": "stream",
     "text": [
      "[2, 'b', 2.3]\n"
     ]
    }
   ],
   "source": [
    "#modificndo elementos da lista\n",
    "a[0] = 2\n",
    "print(a)\n",
    "\n"
   ]
  },
  {
   "cell_type": "code",
   "execution_count": 6,
   "id": "b33710bb-5956-4ce3-a47b-33b4a122bcc5",
   "metadata": {},
   "outputs": [],
   "source": [
    "# Listagem 2: ordenação de listas\n",
    "\n",
    "# Alocaçãp de memória ( ou atribuição de variáveis)\n",
    "lista = [1, 5, 2, 87,31]\n"
   ]
  },
  {
   "cell_type": "code",
   "execution_count": 7,
   "id": "ed6545a9-371e-4d50-a1f3-39d86dce5afb",
   "metadata": {},
   "outputs": [
    {
     "name": "stdout",
     "output_type": "stream",
     "text": [
      "[1, 2, 5, 31, 87]\n"
     ]
    }
   ],
   "source": [
    "##ordenação com a função sorted\n",
    "lista_ordenada_1 = sorted(lista)\n",
    "print(lista_ordenada_1)"
   ]
  },
  {
   "cell_type": "code",
   "execution_count": 8,
   "id": "ad2babdd-554e-4514-a0ae-83fbbe7f6d8a",
   "metadata": {},
   "outputs": [
    {
     "name": "stdout",
     "output_type": "stream",
     "text": [
      "[1, 2, 5, 31, 87]\n"
     ]
    }
   ],
   "source": [
    "## ordenação com o MÉTODO sort()\n",
    "\n",
    "lista.sort()\n",
    "print(lista)"
   ]
  },
  {
   "cell_type": "markdown",
   "id": "be2c920f-8865-401f-ac76-a2d555e0927f",
   "metadata": {},
   "source": [
    "### Busca sequencial\n"
   ]
  },
  {
   "cell_type": "code",
   "execution_count": 9,
   "id": "e2fccfcb-5bde-4be6-aedd-7d7b8263b10e",
   "metadata": {},
   "outputs": [],
   "source": [
    "# Base de dados\n",
    "\n",
    "base = [ 1, 5, 2, 87, 31]\n"
   ]
  },
  {
   "cell_type": "code",
   "execution_count": 10,
   "id": "9abe9ebb-97ab-4851-be39-eeda522c54be",
   "metadata": {},
   "outputs": [],
   "source": [
    "# código do programador\n",
    "\n",
    "## Alocação de memoria\n",
    "\n",
    "lista = base\n",
    "achou = False\n",
    "posicao = 0\n",
    "cpf = 0\n"
   ]
  },
  {
   "cell_type": "code",
   "execution_count": 12,
   "id": "ecc8aa3c-ab40-4965-ab87-f256ad36e40c",
   "metadata": {},
   "outputs": [
    {
     "name": "stdin",
     "output_type": "stream",
     "text": [
      "Digite o valor a procurar: 7\n"
     ]
    }
   ],
   "source": [
    "# leitura de dados\n",
    "\n",
    "cpf = int(input(\"Digite o valor a procurar:\"))"
   ]
  },
  {
   "cell_type": "code",
   "execution_count": 13,
   "id": "1d3da8f4-23b9-43b2-a328-3c63e57a3104",
   "metadata": {},
   "outputs": [
    {
     "name": "stdout",
     "output_type": "stream",
     "text": [
      "7\n"
     ]
    }
   ],
   "source": [
    "print(cpf) #debug com print"
   ]
  },
  {
   "cell_type": "code",
   "execution_count": 14,
   "id": "ee70febc-5514-4218-b0ad-2e430119a583",
   "metadata": {},
   "outputs": [],
   "source": [
    "# processamento de dados\n",
    "\n",
    "while posicao < len(lista):\n",
    "    if lista [posicao] == cpf:\n",
    "        achou = True\n",
    "        break\n",
    "    posicao += 1\n"
   ]
  },
  {
   "cell_type": "code",
   "execution_count": 15,
   "id": "2038da0a-b63f-4ed2-b0a8-0936ce7fc65f",
   "metadata": {},
   "outputs": [
    {
     "name": "stdout",
     "output_type": "stream",
     "text": [
      "\n",
      "O valor 7 não foi achado.\n"
     ]
    }
   ],
   "source": [
    "# saída de dados\n",
    "\n",
    "if achou:\n",
    "    print(f\"\\nO valor {cpf} foi achado na posição {posicao}.\")\n",
    "else:\n",
    "    print(f\"\\nO valor {cpf} não foi achado.\")\n",
    "    "
   ]
  },
  {
   "cell_type": "code",
   "execution_count": null,
   "id": "4b80126b-8b11-4ab7-86b5-138722ced69e",
   "metadata": {},
   "outputs": [],
   "source": []
  }
 ],
 "metadata": {
  "kernelspec": {
   "display_name": "Python 3 (ipykernel)",
   "language": "python",
   "name": "python3"
  },
  "language_info": {
   "codemirror_mode": {
    "name": "ipython",
    "version": 3
   },
   "file_extension": ".py",
   "mimetype": "text/x-python",
   "name": "python",
   "nbconvert_exporter": "python",
   "pygments_lexer": "ipython3",
   "version": "3.11.7"
  }
 },
 "nbformat": 4,
 "nbformat_minor": 5
}
