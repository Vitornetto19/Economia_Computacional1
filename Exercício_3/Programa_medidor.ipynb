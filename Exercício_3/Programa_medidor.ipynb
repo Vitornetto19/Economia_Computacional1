{
 "cells": [
  {
   "cell_type": "markdown",
   "id": "eeecc11b-8e43-4b97-a354-4a8d63200e74",
   "metadata": {},
   "source": [
    "# Programa medidor de temperatura.\n",
    "\n",
    "## Requisítos:\n",
    " Fazer um programa que pergunte a temperatura do ambiente.\r\n",
    " Se ela for menor que ou igual a 18 graus Celsius, imprima esta\r\n",
    " frio. Se ela estiver de 18 a 28 graus Celsius, imprima esta\r\n",
    " agradavel. Se estiver mais do que 28 graus Celsius, imprima\r\n",
    " esta quente."
   ]
  },
  {
   "cell_type": "code",
   "execution_count": 14,
   "id": "14d4b5c3-578a-4933-84c2-9d4fe892d023",
   "metadata": {},
   "outputs": [
    {
     "name": "stdin",
     "output_type": "stream",
     "text": [
      "qual é a temperatura, em Celsius, do ambiente? 19\n"
     ]
    },
    {
     "name": "stdout",
     "output_type": "stream",
     "text": [
      "Esta agradável\n"
     ]
    }
   ],
   "source": [
    "# Alocação de memória\n",
    "Temperatura: int = 0\n",
    "\n",
    "\n",
    "# Entrada de dados\n",
    "\n",
    "Temperatura = int(input(\"qual é a temperatura, em Celsius, do ambiente?\"))\n",
    "\n",
    "\n",
    "# Processamento de dados\n",
    "\n",
    "if Temperatura <= 18:\n",
    "    print(\"Esta Frio\")\n",
    "elif Temperatura > 18 and Temperatura <= 28:\n",
    "    print(\"Esta agradável\")\n",
    "else:\n",
    "    print(\"Esta quente\")\n",
    "    "
   ]
  },
  {
   "cell_type": "code",
   "execution_count": null,
   "id": "e2da6c46-4be0-4bb1-80d9-4726d8c8ed6c",
   "metadata": {},
   "outputs": [],
   "source": []
  },
  {
   "cell_type": "code",
   "execution_count": null,
   "id": "f0c535cc-7789-454a-bb2f-18b2618971d3",
   "metadata": {},
   "outputs": [],
   "source": []
  }
 ],
 "metadata": {
  "kernelspec": {
   "display_name": "Python 3 (ipykernel)",
   "language": "python",
   "name": "python3"
  },
  "language_info": {
   "codemirror_mode": {
    "name": "ipython",
    "version": 3
   },
   "file_extension": ".py",
   "mimetype": "text/x-python",
   "name": "python",
   "nbconvert_exporter": "python",
   "pygments_lexer": "ipython3",
   "version": "3.11.7"
  }
 },
 "nbformat": 4,
 "nbformat_minor": 5
}
